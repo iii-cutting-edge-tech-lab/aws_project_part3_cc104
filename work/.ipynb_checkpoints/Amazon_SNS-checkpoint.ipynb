{
 "cells": [
  {
   "cell_type": "code",
   "execution_count": 1,
   "metadata": {},
   "outputs": [],
   "source": [
    "# 引用套件\n",
    "import boto3\n",
    "import json"
   ]
  },
  {
   "cell_type": "code",
   "execution_count": 2,
   "metadata": {},
   "outputs": [],
   "source": [
    "# 宣告變數\n",
    "Queue_Name='vcloudlab_queue2'\n",
    "Sns_Topic ='vcloudlab_topic'"
   ]
  },
  {
   "cell_type": "code",
   "execution_count": 3,
   "metadata": {},
   "outputs": [],
   "source": [
    "# 使用 client & resource 方法連線sqs、sns\n",
    "# sqs\n",
    "sqs_resource = boto3.resource('sqs',\n",
    "                          endpoint_url=\"http://sqs.vcloudlab.pro:9324\",                        \n",
    "                         )\n",
    "\n",
    "sqs_client = boto3.client('sqs',\n",
    "                          endpoint_url=\"http://sqs.vcloudlab.pro:9324\",                        \n",
    "                         )\n",
    "# sns\n",
    "sns_resource = boto3.resource('sns',\n",
    "                          endpoint_url=\"http://sns.vcloudlab.pro:9911\",                        \n",
    "                         )\n",
    "\n",
    "sns_client = boto3.client('sns',\n",
    "                          endpoint_url=\"http://sns.vcloudlab.pro:9911\",                        \n",
    "                         )\n"
   ]
  },
  {
   "cell_type": "code",
   "execution_count": 4,
   "metadata": {},
   "outputs": [
    {
     "name": "stdout",
     "output_type": "stream",
     "text": [
      "arn:aws:sns:us-east-1:123456789012:vcloudlab_topic\n"
     ]
    }
   ],
   "source": [
    "# 在SNS中創建一個為 vcloudlab_topic的主題\n",
    "create_sns_topic=sns_client.create_topic(\n",
    "    Name=Sns_Topic,\n",
    "    Attributes={\n",
    "        'key': 'gg1'\n",
    "    }\n",
    ")\n",
    "print(create_sns_topic['TopicArn'])\n"
   ]
  },
  {
   "cell_type": "code",
   "execution_count": 5,
   "metadata": {},
   "outputs": [
    {
     "name": "stdout",
     "output_type": "stream",
     "text": [
      "sqs.Queue(url='http://sqs:9324/queue/vcloudlab_queue2')\n"
     ]
    }
   ],
   "source": [
    "# 在SQS中創建一個為vcloudlab_queue2的隊列\n",
    "queue = sqs_resource.create_queue(QueueName=Queue_Name, Attributes={'DelaySeconds': '5'})\n",
    "print(queue)"
   ]
  },
  {
   "cell_type": "code",
   "execution_count": 6,
   "metadata": {},
   "outputs": [
    {
     "name": "stdout",
     "output_type": "stream",
     "text": [
      "{'SubscriptionArn': 'arn:aws:sns:us-east-1:123456789012:vcloudlab_topic:e25e346d-9713-44db-948c-428d528e7cae', 'ResponseMetadata': {'RequestId': '2e8515f9-c2d9-4278-bfb2-8f7afcba9358', 'HTTPStatusCode': 200, 'HTTPHeaders': {'server': 'akka-http/10.0.10', 'date': 'Wed, 31 Jul 2019 05:19:59 GMT', 'content-type': 'text/xml; charset=UTF-8', 'content-length': '341'}, 'RetryAttempts': 0}}\n"
     ]
    }
   ],
   "source": [
    "#將主題的messesge推給隊列\n",
    "response = sns_client.subscribe(TopicArn='arn:aws:sns:us-east-1:123456789012:vcloudlab_topic',\n",
    "                                Protocol='sqs',\n",
    "                                Endpoint='aws-sqs://vcloudlab_queue2?amazonSQSEndpoint=http://sqs.vcloudlab.pro:9324&accessKey=&secretKey=',\n",
    "                                Attributes={\n",
    "                                    'string': 'string'\n",
    "                                },\n",
    "                                ReturnSubscriptionArn=True\n",
    ")\n",
    "\n",
    "print(response)\n"
   ]
  },
  {
   "cell_type": "code",
   "execution_count": 7,
   "metadata": {},
   "outputs": [
    {
     "name": "stdout",
     "output_type": "stream",
     "text": [
      "{'MessageId': '74e9dd49-e89f-4020-8d91-f9a5bc6b81c7', 'ResponseMetadata': {'RequestId': '23e2aa4e-8ce6-4f02-88a5-67bcd88d9aa5', 'HTTPStatusCode': 200, 'HTTPHeaders': {'server': 'akka-http/10.0.10', 'date': 'Wed, 31 Jul 2019 05:20:00 GMT', 'content-type': 'text/xml; charset=UTF-8', 'content-length': '270'}, 'RetryAttempts': 0}}\n"
     ]
    }
   ],
   "source": [
    "#將Message推到SQS\n",
    "sqsarn=create_sns_topic['TopicArn']\n",
    "resp = sns_client.publish(TopicArn=sqsarn,\n",
    "                          Subject ='sns_test',\n",
    "                          Message='Hello World~~~~~~~~~Wahahaha',\n",
    "                          MessageAttributes={'event_type': {'DataType': 'string','StringValue': 'product'}\n",
    "                                            }\n",
    ")\n",
    "print(resp)\n"
   ]
  },
  {
   "cell_type": "code",
   "execution_count": 8,
   "metadata": {},
   "outputs": [
    {
     "name": "stdout",
     "output_type": "stream",
     "text": [
      "Hello World~~~~~~~~~Wahahaha\n"
     ]
    }
   ],
   "source": [
    "#取得SQS隊列中名為vcloudlab_queue2的resource\n",
    "queue1 = sqs_resource.get_queue_by_name(QueueName=Queue_Name)\n",
    "#將隊列中的message取出\n",
    "for i in queue1.receive_messages():\n",
    "    try:\n",
    "        ma = json.loads(i.body)\n",
    "        print(ma['Message'])\n",
    "    except:\n",
    "        print(\"no data\")\n",
    "# 備註：receive_messages的function中可加入參數，取出多數messages，範例如下—\n",
    "# receive_messages( MaxNumberOfMessages=10 )          #取出10個messages\n"
   ]
  },
  {
   "cell_type": "code",
   "execution_count": null,
   "metadata": {},
   "outputs": [],
   "source": []
  }
 ],
 "metadata": {
  "kernelspec": {
   "display_name": "Python 3",
   "language": "python",
   "name": "python3"
  },
  "language_info": {
   "codemirror_mode": {
    "name": "ipython",
    "version": 3
   },
   "file_extension": ".py",
   "mimetype": "text/x-python",
   "name": "python",
   "nbconvert_exporter": "python",
   "pygments_lexer": "ipython3",
   "version": "3.7.3"
  }
 },
 "nbformat": 4,
 "nbformat_minor": 2
}
