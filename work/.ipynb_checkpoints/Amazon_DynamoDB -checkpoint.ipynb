{
 "cells": [
  {
   "cell_type": "code",
   "execution_count": 1,
   "metadata": {},
   "outputs": [],
   "source": [
    "# 引用套件\n",
    "import boto3"
   ]
  },
  {
   "cell_type": "code",
   "execution_count": 2,
   "metadata": {},
   "outputs": [],
   "source": [
    "# 宣告變數\n",
    "table_Name = 'vcloudlab_table'    # dynamodb table 名稱"
   ]
  },
  {
   "cell_type": "code",
   "execution_count": 3,
   "metadata": {},
   "outputs": [],
   "source": [
    "# 使用 client & resource 方法連線dynamodb\n",
    "dynamodb = boto3.resource('dynamodb',\n",
    "                          endpoint_url='http://dynamodb.vcloudlab.pro:8000',                        \n",
    "                         verify=False               #驗證ssl證書功能，預設SSL證書需要驗證，設定verify=False不去驗證SSL證書的有效性 \n",
    "                         )"
   ]
  },
  {
   "cell_type": "code",
   "execution_count": 4,
   "metadata": {},
   "outputs": [],
   "source": [
    "# 創建table\n",
    "create_table = dynamodb.create_table(\n",
    "    TableName= table_Name, #命名為vcloudlab_table\n",
    "    KeySchema=[\n",
    "        {\n",
    "            'AttributeName': 'username',\n",
    "            'KeyType': 'HASH'     #主key\n",
    "        },\n",
    "        {\n",
    "            'AttributeName': 'last_name',\n",
    "            'KeyType': 'RANGE'    #sortkey\n",
    "        }\n",
    "    ],\n",
    "    AttributeDefinitions=[\n",
    "        {\n",
    "            'AttributeName': 'username',\n",
    "            'AttributeType': 'S'\n",
    "        },\n",
    "        {\n",
    "            'AttributeName': 'last_name',\n",
    "            'AttributeType': 'S'\n",
    "        },\n",
    "    ],\n",
    "    ProvisionedThroughput={\n",
    "        'ReadCapacityUnits': 50,\n",
    "        'WriteCapacityUnits': 50\n",
    "    }\n",
    ")\n"
   ]
  },
  {
   "cell_type": "code",
   "execution_count": 12,
   "metadata": {},
   "outputs": [
    {
     "name": "stdout",
     "output_type": "stream",
     "text": [
      "3\n"
     ]
    }
   ],
   "source": [
    "# 計算 table的物件數\n",
    "res = dynamodb.Table(table_Name).scan(AttributesToGet=['username'])\n",
    "print(res['Count'])"
   ]
  },
  {
   "cell_type": "code",
   "execution_count": 11,
   "metadata": {},
   "outputs": [
    {
     "name": "stdout",
     "output_type": "stream",
     "text": [
      "beforeput: 2\n",
      "afterput: 3\n"
     ]
    }
   ],
   "source": [
    "# 對已存在的table建立連線\n",
    "table = dynamodb.Table(table_Name)\n",
    "# 顯示插入資料之前的item數量\n",
    "print('beforeput:', table.item_count)\n",
    "# 插入資料\n",
    "table.put_item(\n",
    "    Item={'username': 'apple2',\n",
    "          'last_name': 'banana',\n",
    "          'age': 30,\n",
    "          'account_type': 'standard_user'\n",
    "         }\n",
    "            )\n",
    "# 顯示插入資料之後的item數量\n",
    "print('afterput:', table.item_count)"
   ]
  },
  {
   "cell_type": "code",
   "execution_count": 14,
   "metadata": {},
   "outputs": [
    {
     "name": "stdout",
     "output_type": "stream",
     "text": [
      "{'last_name': 'banana', 'account_type': 'standard_user', 'age': Decimal('30'), 'username': 'apple'}\n"
     ]
    }
   ],
   "source": [
    "#查詢資料\n",
    "response = table.get_item(\n",
    "Key={\n",
    "'username': 'apple',\n",
    "'last_name': 'banana'\n",
    "}\n",
    ")\n",
    "item = response['Item']\n",
    "print(item)\n"
   ]
  },
  {
   "cell_type": "code",
   "execution_count": 16,
   "metadata": {},
   "outputs": [
    {
     "data": {
      "text/plain": [
       "{'ResponseMetadata': {'RequestId': '3d311f00-6dfa-400c-a7c5-4e412c46cf27',\n",
       "  'HTTPStatusCode': 200,\n",
       "  'HTTPHeaders': {'content-type': 'application/x-amz-json-1.0',\n",
       "   'x-amz-crc32': '2745614147',\n",
       "   'x-amzn-requestid': '3d311f00-6dfa-400c-a7c5-4e412c46cf27',\n",
       "   'content-length': '2',\n",
       "   'server': 'Jetty(8.1.12.v20130726)'},\n",
       "  'RetryAttempts': 0}}"
      ]
     },
     "execution_count": 16,
     "metadata": {},
     "output_type": "execute_result"
    }
   ],
   "source": [
    "#更新物件 \n",
    "table.update_item(\n",
    "Key={\n",
    "'username': 'apple',\n",
    "'last_name': 'banana'\n",
    "},\n",
    "UpdateExpression='SET age = :val1', #更新表達式\n",
    "ExpressionAttributeValues={ #表達式屬性值\n",
    "':val1': 60\n",
    "}\n",
    ")\n"
   ]
  },
  {
   "cell_type": "code",
   "execution_count": 20,
   "metadata": {},
   "outputs": [
    {
     "name": "stdout",
     "output_type": "stream",
     "text": [
      "{'last_name': 'banana', 'account_type': 'standard_user', 'age': Decimal('60'), 'username': 'apple'}\n"
     ]
    }
   ],
   "source": [
    "# 更新後查詢資料 \n",
    "response = table.get_item(\n",
    "        Key={\n",
    "            'username': 'apple',\n",
    "             'last_name': 'banana'\n",
    "            }\n",
    ")\n",
    "item = response['Item']\n",
    "print(item)\n"
   ]
  },
  {
   "cell_type": "code",
   "execution_count": 21,
   "metadata": {},
   "outputs": [
    {
     "name": "stdout",
     "output_type": "stream",
     "text": [
      "beforedelete: 1\n",
      "afterdelete: 0\n"
     ]
    }
   ],
   "source": [
    "# 刪除資料\n",
    "print('beforedelete:', table.item_count)\n",
    "table.delete_item(\n",
    "    Key={\n",
    "        'username': 'apple',\n",
    "        'last_name': 'banana'\n",
    "    }\n",
    ")\n",
    "print('afterdelete:', table.item_count)\n"
   ]
  }
 ],
 "metadata": {
  "kernelspec": {
   "display_name": "Python 3",
   "language": "python",
   "name": "python3"
  },
  "language_info": {
   "codemirror_mode": {
    "name": "ipython",
    "version": 3
   },
   "file_extension": ".py",
   "mimetype": "text/x-python",
   "name": "python",
   "nbconvert_exporter": "python",
   "pygments_lexer": "ipython3",
   "version": "3.7.1"
  }
 },
 "nbformat": 4,
 "nbformat_minor": 2
}
