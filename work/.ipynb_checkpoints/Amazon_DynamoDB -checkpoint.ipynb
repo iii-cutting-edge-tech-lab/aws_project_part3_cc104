{
 "cells": [
  {
   "cell_type": "code",
   "execution_count": 1,
   "metadata": {},
   "outputs": [],
   "source": [
    "# 引用套件\n",
    "import boto3"
   ]
  },
  {
   "cell_type": "code",
   "execution_count": 2,
   "metadata": {},
   "outputs": [],
   "source": [
    "# 宣告變數\n",
    "table_Name = 'vcloudlab_table'    # dynamodb table 名稱"
   ]
  },
  {
   "cell_type": "code",
   "execution_count": 3,
   "metadata": {},
   "outputs": [],
   "source": [
    "# 使用 client & resource 方法連線dynamodb\n",
    "dynamodb = boto3.resource('dynamodb',\n",
    "                          endpoint_url='http://dynamodb.vcloudlab.pro:8000',                        \n",
    "                         verify=False               #驗證ssl證書功能，預設SSL證書需要驗證，設定verify=False不去驗證SSL證書的有效性 \n",
    "                         )"
   ]
  },
  {
   "cell_type": "code",
   "execution_count": 4,
   "metadata": {},
   "outputs": [],
   "source": [
    "# 創建table\n",
    "create_table = dynamodb.create_table(\n",
    "    TableName= table_Name, #命名為vcloudlab_table\n",
    "    KeySchema=[\n",
    "        {\n",
    "            'AttributeName': 'username',\n",
    "            'KeyType': 'HASH'     #主key\n",
    "        },\n",
    "        {\n",
    "            'AttributeName': 'last_name',\n",
    "            'KeyType': 'RANGE'    #sortkey\n",
    "        }\n",
    "    ],\n",
    "    AttributeDefinitions=[\n",
    "        {\n",
    "            'AttributeName': 'username',\n",
    "            'AttributeType': 'S'\n",
    "        },\n",
    "        {\n",
    "            'AttributeName': 'last_name',\n",
    "            'AttributeType': 'S'\n",
    "        },\n",
    "    ],\n",
    "    ProvisionedThroughput={\n",
    "        'ReadCapacityUnits': 50,\n",
    "        'WriteCapacityUnits': 50\n",
    "    }\n",
    ")\n"
   ]
  },
  {
   "cell_type": "code",
   "execution_count": 5,
   "metadata": {},
   "outputs": [
    {
     "name": "stdout",
     "output_type": "stream",
     "text": [
      "0\n"
     ]
    }
   ],
   "source": [
    "# 計算 table的物件數\n",
    "res = dynamodb.Table(table_Name).scan(AttributesToGet=['username'])\n",
    "print(res['Count'])"
   ]
  },
  {
   "cell_type": "code",
   "execution_count": 6,
   "metadata": {},
   "outputs": [
    {
     "name": "stdout",
     "output_type": "stream",
     "text": [
      "beforeput: 0\n",
      "afterput: 1\n"
     ]
    }
   ],
   "source": [
    "# 對已存在的table建立連線\n",
    "table = dynamodb.Table(table_Name)\n",
    "# 顯示插入資料之前的item數量\n",
    "print('beforeput:', table.item_count)\n",
    "# 插入資料\n",
    "table.put_item(\n",
    "    Item={'username': 'apple2',\n",
    "          'last_name': 'banana',\n",
    "          'age': 30,\n",
    "          'account_type': 'standard_user'\n",
    "         }\n",
    "            )\n",
    "# 顯示插入資料之後的item數量\n",
    "print('afterput:', table.item_count)"
   ]
  },
  {
   "cell_type": "code",
   "execution_count": 7,
   "metadata": {},
   "outputs": [
    {
     "name": "stdout",
     "output_type": "stream",
     "text": [
      "{'last_name': 'banana', 'account_type': 'standard_user', 'age': Decimal('30'), 'username': 'apple2'}\n"
     ]
    }
   ],
   "source": [
    "#查詢資料\n",
    "response = table.get_item(\n",
    "Key={\n",
    "'username': 'apple2',\n",
    "'last_name': 'banana'\n",
    "}\n",
    ")\n",
    "item = response['Item']\n",
    "print(item)\n"
   ]
  },
  {
   "cell_type": "code",
   "execution_count": 8,
   "metadata": {},
   "outputs": [
    {
     "data": {
      "text/plain": [
       "{'ResponseMetadata': {'RequestId': 'd3a1f76a-d6cc-459b-9fc0-588121919e8b',\n",
       "  'HTTPStatusCode': 200,\n",
       "  'HTTPHeaders': {'content-type': 'application/x-amz-json-1.0',\n",
       "   'x-amz-crc32': '2745614147',\n",
       "   'x-amzn-requestid': 'd3a1f76a-d6cc-459b-9fc0-588121919e8b',\n",
       "   'content-length': '2',\n",
       "   'server': 'Jetty(8.1.12.v20130726)'},\n",
       "  'RetryAttempts': 0}}"
      ]
     },
     "execution_count": 8,
     "metadata": {},
     "output_type": "execute_result"
    }
   ],
   "source": [
    "#更新物件 \n",
    "table.update_item(\n",
    "Key={\n",
    "'username': 'apple',\n",
    "'last_name': 'banana'\n",
    "},\n",
    "UpdateExpression='SET age = :val1', #更新表達式\n",
    "ExpressionAttributeValues={ #表達式屬性值\n",
    "':val1': 60\n",
    "}\n",
    ")\n"
   ]
  },
  {
   "cell_type": "code",
   "execution_count": 9,
   "metadata": {},
   "outputs": [
    {
     "name": "stdout",
     "output_type": "stream",
     "text": [
      "{'last_name': 'banana', 'age': Decimal('60'), 'username': 'apple'}\n"
     ]
    }
   ],
   "source": [
    "# 更新後查詢資料 \n",
    "response = table.get_item(\n",
    "        Key={\n",
    "            'username': 'apple',\n",
    "             'last_name': 'banana'\n",
    "            }\n",
    ")\n",
    "item = response['Item']\n",
    "print(item)\n"
   ]
  },
  {
   "cell_type": "code",
   "execution_count": 10,
   "metadata": {},
   "outputs": [
    {
     "name": "stdout",
     "output_type": "stream",
     "text": [
      "beforedelete: 2\n",
      "afterdelete: 1\n"
     ]
    }
   ],
   "source": [
    "# 刪除資料\n",
    "print('beforedelete:', table.item_count)\n",
    "table.delete_item(\n",
    "    Key={\n",
    "        'username': 'apple',\n",
    "        'last_name': 'banana'\n",
    "    }\n",
    ")\n",
    "print('afterdelete:', table.item_count)\n"
   ]
  },
  {
   "cell_type": "code",
   "execution_count": 11,
   "metadata": {},
   "outputs": [
    {
     "data": {
      "text/plain": [
       "{'TableDescription': {'AttributeDefinitions': [{'AttributeName': 'username',\n",
       "    'AttributeType': 'S'},\n",
       "   {'AttributeName': 'last_name', 'AttributeType': 'S'}],\n",
       "  'TableName': 'vcloudlab_table',\n",
       "  'KeySchema': [{'AttributeName': 'username', 'KeyType': 'HASH'},\n",
       "   {'AttributeName': 'last_name', 'KeyType': 'RANGE'}],\n",
       "  'TableStatus': 'ACTIVE',\n",
       "  'CreationDateTime': datetime.datetime(2019, 7, 31, 5, 16, 8, 424000, tzinfo=tzlocal()),\n",
       "  'ProvisionedThroughput': {'LastIncreaseDateTime': datetime.datetime(1970, 1, 1, 0, 0, tzinfo=tzlocal()),\n",
       "   'LastDecreaseDateTime': datetime.datetime(1970, 1, 1, 0, 0, tzinfo=tzlocal()),\n",
       "   'NumberOfDecreasesToday': 0,\n",
       "   'ReadCapacityUnits': 50,\n",
       "   'WriteCapacityUnits': 50},\n",
       "  'TableSizeBytes': 59,\n",
       "  'ItemCount': 1,\n",
       "  'TableArn': 'arn:aws:dynamodb:ddblocal:000000000000:table/vcloudlab_table',\n",
       "  'BillingModeSummary': {'BillingMode': 'PROVISIONED',\n",
       "   'LastUpdateToPayPerRequestDateTime': datetime.datetime(1970, 1, 1, 0, 0, tzinfo=tzlocal())}},\n",
       " 'ResponseMetadata': {'RequestId': 'd88154b6-9b4d-40d2-9bd7-4812380b72dd',\n",
       "  'HTTPStatusCode': 200,\n",
       "  'HTTPHeaders': {'content-type': 'application/x-amz-json-1.0',\n",
       "   'x-amz-crc32': '1444203100',\n",
       "   'x-amzn-requestid': 'd88154b6-9b4d-40d2-9bd7-4812380b72dd',\n",
       "   'content-length': '700',\n",
       "   'server': 'Jetty(8.1.12.v20130726)'},\n",
       "  'RetryAttempts': 0}}"
      ]
     },
     "execution_count": 11,
     "metadata": {},
     "output_type": "execute_result"
    }
   ],
   "source": [
    "# 刪除資料表\n",
    "table = dynamodb.Table('vcloudlab_table')\n",
    "table.delete()"
   ]
  }
 ],
 "metadata": {
  "kernelspec": {
   "display_name": "Python 3",
   "language": "python",
   "name": "python3"
  },
  "language_info": {
   "codemirror_mode": {
    "name": "ipython",
    "version": 3
   },
   "file_extension": ".py",
   "mimetype": "text/x-python",
   "name": "python",
   "nbconvert_exporter": "python",
   "pygments_lexer": "ipython3",
   "version": "3.7.3"
  }
 },
 "nbformat": 4,
 "nbformat_minor": 2
}
