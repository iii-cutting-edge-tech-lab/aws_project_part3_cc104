{
 "cells": [
  {
   "cell_type": "code",
   "execution_count": 1,
   "metadata": {},
   "outputs": [],
   "source": [
    "# 引用套件\n",
    "import redis"
   ]
  },
  {
   "cell_type": "code",
   "execution_count": 2,
   "metadata": {},
   "outputs": [
    {
     "name": "stdout",
     "output_type": "stream",
     "text": [
      "Connected!\n"
     ]
    }
   ],
   "source": [
    "#連接redis\n",
    "try:\n",
    "    conn = redis.Redis(\n",
    "#此host為docker container Domain Name\n",
    "    host='redis.vcloudlab.pro',\n",
    "    port=\"6379\",\n",
    "    db=0,\n",
    "#當初在docker-compose設定redis的密碼\n",
    "    password='iii',\n",
    "#給格式\n",
    "    charset=\"utf-8\",\n",
    " #要解碼，否則回傳的資料前面會多一個b\n",
    "    decode_responses=True\n",
    "    )\n",
    "#連接成功時的提示訊息\n",
    "    print('Connected!')\n",
    "#當連接失敗時\n",
    "except Exception as ex:\n",
    "    print ('Error:'), ex\n",
    "    #exit('Failed to connect, terminating.')\n"
   ]
  },
  {
   "cell_type": "code",
   "execution_count": 3,
   "metadata": {},
   "outputs": [
    {
     "name": "stdout",
     "output_type": "stream",
     "text": [
      "True\n",
      "True\n",
      "['fruit_1', 'fruit_2']\n",
      "Apple\n",
      "1\n",
      "0\n",
      "['Apple', 'Banana']\n",
      "1\n",
      "0\n",
      "['fruit_2']\n",
      "1\n"
     ]
    }
   ],
   "source": [
    "#創建新的key\n",
    "print(conn.set(\"fruit_1\",\"Apple\"))     #創建成功回傳True\n",
    "print(conn.set(\"fruit_2\",\"Banana\"))\n",
    "#查詢所有存在的key\n",
    "print(conn.keys(\"*\"))      #key=fruit_1,fruit_2\n",
    "#取得key對應的value值\n",
    "print(conn.get(\"fruit_1\")) #fruit_1=Apple\n",
    "#查詢key是否存在\n",
    "print(conn.exists(\"fruit_2\"))   #存在回傳1\n",
    "print(conn.exists(\"fruit_7\"))   #不存回傳為0\n",
    "#m為多數的意思\n",
    "print(conn.mget(\"fruit_1\",\"fruit_2\"))   #fruit_1=Apple fruit_2=Banana\n",
    "#刪除已存在的key\n",
    "print(conn.delete(\"fruit_1\"))   #成功刪除回傳1\n",
    "print(conn.delete(\"fruit_6\"))   #不成功刪除回傳0\n",
    "#再次查詢所有存在的key\n",
    "print(conn.keys(\"*\"))   #只剩下fruit_2\n",
    "#刪除key\n",
    "print(conn.delete(\"fruit_2\"))   #成功刪除回傳1\n"
   ]
  },
  {
   "cell_type": "code",
   "execution_count": 5,
   "metadata": {},
   "outputs": [
    {
     "name": "stdout",
     "output_type": "stream",
     "text": [
      "1\n",
      "1\n",
      "87\n",
      "['Math', 'English']\n",
      "['grade']\n",
      "['87', '90']\n",
      "1\n",
      "0\n",
      "['English']\n",
      "1\n",
      "[]\n"
     ]
    }
   ],
   "source": [
    "#h為hash的意思\n",
    "print(conn.hset('grade','Math',87))   #創建成功回傳1\n",
    "print(conn.hset('grade','English',90))\n",
    "#取得hash的值\n",
    "print(conn.hget('grade','Math'))  #Math=87\n",
    "#取得hash裡key的值\n",
    "print(conn.hkeys('grade'))  #hkey=Math,Enhlish\n",
    "#查詢所有存在的key\n",
    "print(conn.keys('*'))  #key=grade\n",
    "#取得多個hash的值\n",
    "print(conn.hmget('grade',['Math','English']))  #Math=87,English=90\n",
    "#刪除key\n",
    "print(conn.hdel('grade', 'Math'))  #成功刪除回傳1\n",
    "print(conn.hdel('grade', 'Science'))  #刪除失敗回傳0\n",
    "#檢查是否刪除\n",
    "print(conn.hkeys('grade'))   #hkey只剩下English\n",
    "#刪除該key下所有hash\n",
    "print(conn.delete(\"grade\"))  #整個hash刪除\n",
    "#檢查是否完全刪除\n",
    "print(conn.hkeys('grade'))  #會為空值\n"
   ]
  },
  {
   "cell_type": "code",
   "execution_count": 6,
   "metadata": {},
   "outputs": [
    {
     "name": "stdout",
     "output_type": "stream",
     "text": [
      "5\n",
      "['23', '15', '7', '26']\n",
      "23\n",
      "4\n",
      "5\n",
      "99\n",
      "1\n",
      "0\n"
     ]
    }
   ],
   "source": [
    "#將值從右方放入list中(r代表right)\n",
    "print(conn.rpush('list_test', 23, 15, 7, 26, 18))  #會回傳5，代表list目前長度\n",
    "#顯示list中的第0至3位(最左為0)\n",
    "print(conn.lrange('list_test', 0, 3))  #從左第0位至第3位為23,15,7,26\n",
    "#將第0位從list中取出\n",
    "print(conn.lpop('list_test'))  #第0位為23，會回傳23，取出後list只剩4個值\n",
    "#顯示list長度\n",
    "print(conn.llen('list_test'))  #會回傳4，因為list只剩下4個值\n",
    "#將值從第0位塞入\n",
    "print(conn.lpush('list_test', 99))  #會回傳5，代表list目前長度\n",
    "#顯示第0位的值\n",
    "print(conn.lindex('list_test', 0))  #目前第0位為99\n",
    "#刪除list\n",
    "print(conn.delete('list_test'))  #成功刪除則回傳1\n",
    "#確認是否刪除\n",
    "print(conn.llen('list_test'))  #回傳0則代表list內並沒有值\n"
   ]
  },
  {
   "cell_type": "code",
   "execution_count": null,
   "metadata": {},
   "outputs": [],
   "source": []
  },
  {
   "cell_type": "code",
   "execution_count": null,
   "metadata": {},
   "outputs": [],
   "source": []
  },
  {
   "cell_type": "code",
   "execution_count": null,
   "metadata": {},
   "outputs": [],
   "source": []
  }
 ],
 "metadata": {
  "kernelspec": {
   "display_name": "Python 3",
   "language": "python",
   "name": "python3"
  },
  "language_info": {
   "codemirror_mode": {
    "name": "ipython",
    "version": 3
   },
   "file_extension": ".py",
   "mimetype": "text/x-python",
   "name": "python",
   "nbconvert_exporter": "python",
   "pygments_lexer": "ipython3",
   "version": "3.7.1"
  }
 },
 "nbformat": 4,
 "nbformat_minor": 2
}
