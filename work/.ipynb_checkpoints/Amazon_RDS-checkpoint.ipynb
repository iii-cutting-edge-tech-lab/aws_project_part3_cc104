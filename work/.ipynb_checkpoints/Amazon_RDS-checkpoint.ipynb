{
 "cells": [
  {
   "cell_type": "code",
   "execution_count": null,
   "metadata": {},
   "outputs": [],
   "source": [
    "#引用套件\n",
    "import pymysql"
   ]
  },
  {
   "cell_type": "code",
   "execution_count": null,
   "metadata": {},
   "outputs": [],
   "source": [
    "# 建立與RDS(mysql)的連線\n",
    "connection = pymysql.connect(host = 'mysql.vcloudlab.pro',\n",
    "                             user = 'root',\n",
    "                             password = 'iii',\n",
    ")\n"
   ]
  },
  {
   "cell_type": "code",
   "execution_count": null,
   "metadata": {},
   "outputs": [],
   "source": [
    "# 創建一個新游標以執行請求\n",
    "cur = connection.cursor()"
   ]
  },
  {
   "cell_type": "code",
   "execution_count": null,
   "metadata": {},
   "outputs": [],
   "source": [
    "# 查詢資料庫列表的請求語句\n",
    "sqlQuery = \"SHOW databases\"\n",
    "# 執行請求語句\n",
    "cur.execute (sqlQuery)\n",
    "# 建立創建資料庫的請求語句\n",
    "sqlQuery = \"CREATE database cc104\"\n",
    "# 執行請求語句\n",
    "cur.execute (sqlQuery)\n"
   ]
  },
  {
   "cell_type": "code",
   "execution_count": null,
   "metadata": {},
   "outputs": [],
   "source": [
    "# 使用資料庫的請求語句\n",
    "sqlQuery = \"use cc104\"\n",
    "# 執行請求語句\n",
    "cur.execute (sqlQuery)\n"
   ]
  },
  {
   "cell_type": "code",
   "execution_count": null,
   "metadata": {},
   "outputs": [],
   "source": [
    "# 創建資料表的請求語句\n",
    "sqlQuery = \"CREATE table classmate( sn integer auto_increment primary key, name varchar(255))\"\n",
    "# 執行請求語句\n",
    "cur.execute (sqlQuery)\n"
   ]
  },
  {
   "cell_type": "code",
   "execution_count": null,
   "metadata": {},
   "outputs": [],
   "source": [
    "# 新增資料的請求語句\n",
    "sqlQuery = \"INSERT INTO classmate( name ) VALUES('LBH')\"\n",
    "# 執行請求語句\n",
    "cur.execute(sqlQuery)\n",
    "# 當進行增刪修行為需要執行commit()\n",
    "connection.commit()\n"
   ]
  },
  {
   "cell_type": "code",
   "execution_count": null,
   "metadata": {},
   "outputs": [],
   "source": [
    "# 建立查詢的請求語句\n",
    "sqlQuery = \"SELECT name FROM classmate\"\n",
    "# 執行請求語句\n",
    "cur.execute(sqlQuery)\n",
    "# 更新資料的請求語句\n",
    "sqlQuery = \"UPDATE classmate SET name='LBHHHHHHH' where sn=26\"\n",
    "# 執行請求語句\n",
    "cur.execute(sqlQuery)\n",
    "# 當進行增刪修行為需要執行commit()\n",
    "connection.commit()\n"
   ]
  },
  {
   "cell_type": "code",
   "execution_count": null,
   "metadata": {},
   "outputs": [],
   "source": [
    "# 刪除資料 -- 僅列出語法，不建議使用(通常資料庫不進行資料刪除動作)\n",
    "# 刪除資料的請求語句\n",
    "sqlQuery = \"DELETE FROM classmate WHERE sn=26\"\n",
    "# 執行請求語句\n",
    "cur.execute(sqlQuery)\n",
    "# 當進行增刪修行為需要執行commit()\n",
    "connection.commit()\n"
   ]
  }
 ],
 "metadata": {
  "kernelspec": {
   "display_name": "Python 3",
   "language": "python",
   "name": "python3"
  },
  "language_info": {
   "codemirror_mode": {
    "name": "ipython",
    "version": 3
   },
   "file_extension": ".py",
   "mimetype": "text/x-python",
   "name": "python",
   "nbconvert_exporter": "python",
   "pygments_lexer": "ipython3",
   "version": "3.7.3"
  }
 },
 "nbformat": 4,
 "nbformat_minor": 2
}
