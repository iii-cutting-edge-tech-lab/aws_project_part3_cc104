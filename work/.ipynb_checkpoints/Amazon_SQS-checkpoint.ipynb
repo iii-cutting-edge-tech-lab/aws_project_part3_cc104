{
 "cells": [
  {
   "cell_type": "code",
   "execution_count": 3,
   "metadata": {},
   "outputs": [],
   "source": [
    "# 引用套件\n",
    "import boto3"
   ]
  },
  {
   "cell_type": "code",
   "execution_count": 8,
   "metadata": {},
   "outputs": [],
   "source": [
    "# 宣告變數\n",
    "Queue_Name='vcloudlab_queue'            # sqs queue名稱"
   ]
  },
  {
   "cell_type": "code",
   "execution_count": 5,
   "metadata": {},
   "outputs": [],
   "source": [
    "# 使用 client & resource 方法連線sqs\n",
    "sqs_resource = boto3.resource('sqs',\n",
    "                          endpoint_url=\"http://sqs.vcloudlab.pro:9324\",                        \n",
    "                         )\n",
    "\n",
    "sqs_client = boto3.client('sqs',\n",
    "                          endpoint_url=\"http://sqs.vcloudlab.pro:9324\",                        \n",
    "                         )"
   ]
  },
  {
   "cell_type": "code",
   "execution_count": 20,
   "metadata": {},
   "outputs": [
    {
     "name": "stdout",
     "output_type": "stream",
     "text": [
      "{'QueueUrl': 'http://sqs:9324/queue/vcloudlab_queue',\n",
      " 'ResponseMetadata': {'HTTPHeaders': {'content-length': '422',\n",
      "                                      'content-type': 'text/plain; '\n",
      "                                                      'charset=UTF-8',\n",
      "                                      'date': 'Mon, 28 Jan 2019 16:18:23 GMT',\n",
      "                                      'server': 'akka-http/10.1.3'},\n",
      "                      'HTTPStatusCode': 200,\n",
      "                      'RequestId': '00000000-0000-0000-0000-000000000000',\n",
      "                      'RetryAttempts': 0}}\n"
     ]
    }
   ],
   "source": [
    "# 用create_queue方法創建名為vcloudlab_queue的隊列\n",
    "create_queue = sqs_client.create_queue(QueueName=Queue_Name, Attributes={'DelaySeconds': '5'})\n",
    "print(create_queue)"
   ]
  },
  {
   "cell_type": "code",
   "execution_count": 18,
   "metadata": {},
   "outputs": [
    {
     "name": "stdout",
     "output_type": "stream",
     "text": [
      "{'ResponseMetadata': {'HTTPHeaders': {'content-length': '348',\n",
      "                                      'content-type': 'text/plain; '\n",
      "                                                      'charset=UTF-8',\n",
      "                                      'date': 'Mon, 28 Jan 2019 16:12:21 GMT',\n",
      "                                      'server': 'akka-http/10.1.3'},\n",
      "                      'HTTPStatusCode': 200,\n",
      "                      'RequestId': '00000000-0000-0000-0000-000000000000',\n",
      "                      'RetryAttempts': 0}}\n"
     ]
    }
   ],
   "source": [
    "#讀取queue內容\n",
    "queue = sqs_resource.get_queue_by_name(QueueName=Queue_Name)\n",
    "response = sqs_client.receive_message(QueueUrl=queue.url)\n",
    "pprint.pprint(response)"
   ]
  },
  {
   "cell_type": "code",
   "execution_count": 28,
   "metadata": {},
   "outputs": [],
   "source": [
    "# 用send_message方法將message傳送到test1 queue中\n",
    "# 設定單個send Message的相關屬性並傳送\n",
    "response_s = queue.send_message(\n",
    "    MessageBody='Hello',\n",
    "    MessageAttributes={\"msn\":{\n",
    "                            \"DataType\":'String',\n",
    "                              \"StringValue\":'communication1'}},\n",
    ")"
   ]
  },
  {
   "cell_type": "code",
   "execution_count": 30,
   "metadata": {},
   "outputs": [
    {
     "name": "stdout",
     "output_type": "stream",
     "text": [
      "隊列: sqs.Queue(url='http://sqs:9324/queue/vcloudlab_queue')\n",
      "訊息MessageBody    Hello\n"
     ]
    }
   ],
   "source": [
    "# 從隊列中取出message\n",
    "for kk in queue.receive_messages():\n",
    "    try:\n",
    "        print('隊列:',queue)\n",
    "        print('訊息MessageBody   ',kk.body)\n",
    "    except:\n",
    "        print(\"no data\")\n",
    "# 備註：receive_messages的function中可加入參數，取出多數messages，範例如下—\n",
    "# receive_messages( MaxNumberOfMessages=10 )          #取出10個messages\n",
    "\n"
   ]
  },
  {
   "cell_type": "code",
   "execution_count": null,
   "metadata": {},
   "outputs": [],
   "source": []
  }
 ],
 "metadata": {
  "kernelspec": {
   "display_name": "Python 3",
   "language": "python",
   "name": "python3"
  },
  "language_info": {
   "codemirror_mode": {
    "name": "ipython",
    "version": 3
   },
   "file_extension": ".py",
   "mimetype": "text/x-python",
   "name": "python",
   "nbconvert_exporter": "python",
   "pygments_lexer": "ipython3",
   "version": "3.7.1"
  }
 },
 "nbformat": 4,
 "nbformat_minor": 2
}
